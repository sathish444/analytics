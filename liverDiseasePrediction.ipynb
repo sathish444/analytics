{
 "cells": [
  {
   "cell_type": "code",
   "execution_count": 1,
   "metadata": {
    "collapsed": true
   },
   "outputs": [],
   "source": [
    "import pandas as pd\n",
    "import numpy as np\n"
   ]
  },
  {
   "cell_type": "code",
   "execution_count": 2,
   "metadata": {},
   "outputs": [
    {
     "data": {
      "text/html": [
       "<div>\n",
       "<style>\n",
       "    .dataframe thead tr:only-child th {\n",
       "        text-align: right;\n",
       "    }\n",
       "\n",
       "    .dataframe thead th {\n",
       "        text-align: left;\n",
       "    }\n",
       "\n",
       "    .dataframe tbody tr th {\n",
       "        vertical-align: top;\n",
       "    }\n",
       "</style>\n",
       "<table border=\"1\" class=\"dataframe\">\n",
       "  <thead>\n",
       "    <tr style=\"text-align: right;\">\n",
       "      <th></th>\n",
       "      <th>Age</th>\n",
       "      <th>Gender</th>\n",
       "      <th>Total_Bilirubin</th>\n",
       "      <th>Direct_Bilirubin</th>\n",
       "      <th>Alkaline_Phosphotase</th>\n",
       "      <th>Alamine_Aminotransferase</th>\n",
       "      <th>Aspartate_Aminotransferase</th>\n",
       "      <th>Total_Protiens</th>\n",
       "      <th>Albumin</th>\n",
       "      <th>Albumin_and_Globulin_Ratio</th>\n",
       "      <th>Dataset</th>\n",
       "    </tr>\n",
       "  </thead>\n",
       "  <tbody>\n",
       "    <tr>\n",
       "      <th>0</th>\n",
       "      <td>65</td>\n",
       "      <td>Female</td>\n",
       "      <td>0.7</td>\n",
       "      <td>0.1</td>\n",
       "      <td>187</td>\n",
       "      <td>16</td>\n",
       "      <td>18</td>\n",
       "      <td>6.8</td>\n",
       "      <td>3.3</td>\n",
       "      <td>0.90</td>\n",
       "      <td>1</td>\n",
       "    </tr>\n",
       "    <tr>\n",
       "      <th>1</th>\n",
       "      <td>62</td>\n",
       "      <td>Male</td>\n",
       "      <td>10.9</td>\n",
       "      <td>5.5</td>\n",
       "      <td>699</td>\n",
       "      <td>64</td>\n",
       "      <td>100</td>\n",
       "      <td>7.5</td>\n",
       "      <td>3.2</td>\n",
       "      <td>0.74</td>\n",
       "      <td>1</td>\n",
       "    </tr>\n",
       "    <tr>\n",
       "      <th>2</th>\n",
       "      <td>62</td>\n",
       "      <td>Male</td>\n",
       "      <td>7.3</td>\n",
       "      <td>4.1</td>\n",
       "      <td>490</td>\n",
       "      <td>60</td>\n",
       "      <td>68</td>\n",
       "      <td>7.0</td>\n",
       "      <td>3.3</td>\n",
       "      <td>0.89</td>\n",
       "      <td>1</td>\n",
       "    </tr>\n",
       "    <tr>\n",
       "      <th>3</th>\n",
       "      <td>58</td>\n",
       "      <td>Male</td>\n",
       "      <td>1.0</td>\n",
       "      <td>0.4</td>\n",
       "      <td>182</td>\n",
       "      <td>14</td>\n",
       "      <td>20</td>\n",
       "      <td>6.8</td>\n",
       "      <td>3.4</td>\n",
       "      <td>1.00</td>\n",
       "      <td>1</td>\n",
       "    </tr>\n",
       "    <tr>\n",
       "      <th>4</th>\n",
       "      <td>72</td>\n",
       "      <td>Male</td>\n",
       "      <td>3.9</td>\n",
       "      <td>2.0</td>\n",
       "      <td>195</td>\n",
       "      <td>27</td>\n",
       "      <td>59</td>\n",
       "      <td>7.3</td>\n",
       "      <td>2.4</td>\n",
       "      <td>0.40</td>\n",
       "      <td>1</td>\n",
       "    </tr>\n",
       "  </tbody>\n",
       "</table>\n",
       "</div>"
      ],
      "text/plain": [
       "   Age  Gender  Total_Bilirubin  Direct_Bilirubin  Alkaline_Phosphotase  \\\n",
       "0   65  Female              0.7               0.1                   187   \n",
       "1   62    Male             10.9               5.5                   699   \n",
       "2   62    Male              7.3               4.1                   490   \n",
       "3   58    Male              1.0               0.4                   182   \n",
       "4   72    Male              3.9               2.0                   195   \n",
       "\n",
       "   Alamine_Aminotransferase  Aspartate_Aminotransferase  Total_Protiens  \\\n",
       "0                        16                          18             6.8   \n",
       "1                        64                         100             7.5   \n",
       "2                        60                          68             7.0   \n",
       "3                        14                          20             6.8   \n",
       "4                        27                          59             7.3   \n",
       "\n",
       "   Albumin  Albumin_and_Globulin_Ratio  Dataset  \n",
       "0      3.3                        0.90        1  \n",
       "1      3.2                        0.74        1  \n",
       "2      3.3                        0.89        1  \n",
       "3      3.4                        1.00        1  \n",
       "4      2.4                        0.40        1  "
      ]
     },
     "execution_count": 2,
     "metadata": {},
     "output_type": "execute_result"
    }
   ],
   "source": [
    "data=pd.read_csv('Downloads/indian_liver_patient.csv')\n",
    "data.head(5)"
   ]
  },
  {
   "cell_type": "code",
   "execution_count": 3,
   "metadata": {},
   "outputs": [
    {
     "data": {
      "text/plain": [
       "Age                           583\n",
       "Gender                        583\n",
       "Total_Bilirubin               583\n",
       "Direct_Bilirubin              583\n",
       "Alkaline_Phosphotase          583\n",
       "Alamine_Aminotransferase      583\n",
       "Aspartate_Aminotransferase    583\n",
       "Total_Protiens                583\n",
       "Albumin                       583\n",
       "Albumin_and_Globulin_Ratio    579\n",
       "Dataset                       583\n",
       "dtype: int64"
      ]
     },
     "execution_count": 3,
     "metadata": {},
     "output_type": "execute_result"
    }
   ],
   "source": [
    "data.Dataset.unique()\n",
    "data.count()"
   ]
  },
  {
   "cell_type": "code",
   "execution_count": 4,
   "metadata": {},
   "outputs": [
    {
     "data": {
      "text/plain": [
       "Age                           0\n",
       "Gender                        0\n",
       "Total_Bilirubin               0\n",
       "Direct_Bilirubin              0\n",
       "Alkaline_Phosphotase          0\n",
       "Alamine_Aminotransferase      0\n",
       "Aspartate_Aminotransferase    0\n",
       "Total_Protiens                0\n",
       "Albumin                       0\n",
       "Albumin_and_Globulin_Ratio    4\n",
       "Dataset                       0\n",
       "dtype: int64"
      ]
     },
     "execution_count": 4,
     "metadata": {},
     "output_type": "execute_result"
    }
   ],
   "source": [
    "data.isnull().sum()"
   ]
  },
  {
   "cell_type": "code",
   "execution_count": 5,
   "metadata": {},
   "outputs": [
    {
     "data": {
      "text/plain": [
       "Age                           0\n",
       "Gender                        0\n",
       "Total_Bilirubin               0\n",
       "Direct_Bilirubin              0\n",
       "Alkaline_Phosphotase          0\n",
       "Alamine_Aminotransferase      0\n",
       "Aspartate_Aminotransferase    0\n",
       "Total_Protiens                0\n",
       "Albumin                       0\n",
       "Albumin_and_Globulin_Ratio    0\n",
       "Dataset                       0\n",
       "dtype: int64"
      ]
     },
     "execution_count": 5,
     "metadata": {},
     "output_type": "execute_result"
    }
   ],
   "source": [
    "mean=data.Albumin_and_Globulin_Ratio.mean()\n",
    "mean\n",
    "data=data.fillna({'Albumin_and_Globulin_Ratio':mean})\n",
    "data.isnull().sum()"
   ]
  },
  {
   "cell_type": "code",
   "execution_count": 6,
   "metadata": {
    "collapsed": true
   },
   "outputs": [],
   "source": [
    "gender_dummies=pd.get_dummies(data['Gender'])\n"
   ]
  },
  {
   "cell_type": "code",
   "execution_count": 7,
   "metadata": {},
   "outputs": [
    {
     "data": {
      "text/html": [
       "<div>\n",
       "<style>\n",
       "    .dataframe thead tr:only-child th {\n",
       "        text-align: right;\n",
       "    }\n",
       "\n",
       "    .dataframe thead th {\n",
       "        text-align: left;\n",
       "    }\n",
       "\n",
       "    .dataframe tbody tr th {\n",
       "        vertical-align: top;\n",
       "    }\n",
       "</style>\n",
       "<table border=\"1\" class=\"dataframe\">\n",
       "  <thead>\n",
       "    <tr style=\"text-align: right;\">\n",
       "      <th></th>\n",
       "      <th>Female</th>\n",
       "      <th>Male</th>\n",
       "    </tr>\n",
       "  </thead>\n",
       "  <tbody>\n",
       "    <tr>\n",
       "      <th>0</th>\n",
       "      <td>1</td>\n",
       "      <td>0</td>\n",
       "    </tr>\n",
       "    <tr>\n",
       "      <th>1</th>\n",
       "      <td>0</td>\n",
       "      <td>1</td>\n",
       "    </tr>\n",
       "  </tbody>\n",
       "</table>\n",
       "</div>"
      ],
      "text/plain": [
       "   Female  Male\n",
       "0       1     0\n",
       "1       0     1"
      ]
     },
     "execution_count": 7,
     "metadata": {},
     "output_type": "execute_result"
    }
   ],
   "source": [
    "gender_dummies.head(2)"
   ]
  },
  {
   "cell_type": "code",
   "execution_count": 8,
   "metadata": {},
   "outputs": [
    {
     "data": {
      "text/html": [
       "<div>\n",
       "<style>\n",
       "    .dataframe thead tr:only-child th {\n",
       "        text-align: right;\n",
       "    }\n",
       "\n",
       "    .dataframe thead th {\n",
       "        text-align: left;\n",
       "    }\n",
       "\n",
       "    .dataframe tbody tr th {\n",
       "        vertical-align: top;\n",
       "    }\n",
       "</style>\n",
       "<table border=\"1\" class=\"dataframe\">\n",
       "  <thead>\n",
       "    <tr style=\"text-align: right;\">\n",
       "      <th></th>\n",
       "      <th>Age</th>\n",
       "      <th>Total_Bilirubin</th>\n",
       "      <th>Direct_Bilirubin</th>\n",
       "      <th>Alkaline_Phosphotase</th>\n",
       "      <th>Alamine_Aminotransferase</th>\n",
       "      <th>Aspartate_Aminotransferase</th>\n",
       "      <th>Total_Protiens</th>\n",
       "      <th>Albumin</th>\n",
       "      <th>Albumin_and_Globulin_Ratio</th>\n",
       "      <th>Dataset</th>\n",
       "    </tr>\n",
       "  </thead>\n",
       "  <tbody>\n",
       "    <tr>\n",
       "      <th>0</th>\n",
       "      <td>65</td>\n",
       "      <td>0.7</td>\n",
       "      <td>0.1</td>\n",
       "      <td>187</td>\n",
       "      <td>16</td>\n",
       "      <td>18</td>\n",
       "      <td>6.8</td>\n",
       "      <td>3.3</td>\n",
       "      <td>0.90</td>\n",
       "      <td>1</td>\n",
       "    </tr>\n",
       "    <tr>\n",
       "      <th>1</th>\n",
       "      <td>62</td>\n",
       "      <td>10.9</td>\n",
       "      <td>5.5</td>\n",
       "      <td>699</td>\n",
       "      <td>64</td>\n",
       "      <td>100</td>\n",
       "      <td>7.5</td>\n",
       "      <td>3.2</td>\n",
       "      <td>0.74</td>\n",
       "      <td>1</td>\n",
       "    </tr>\n",
       "    <tr>\n",
       "      <th>2</th>\n",
       "      <td>62</td>\n",
       "      <td>7.3</td>\n",
       "      <td>4.1</td>\n",
       "      <td>490</td>\n",
       "      <td>60</td>\n",
       "      <td>68</td>\n",
       "      <td>7.0</td>\n",
       "      <td>3.3</td>\n",
       "      <td>0.89</td>\n",
       "      <td>1</td>\n",
       "    </tr>\n",
       "  </tbody>\n",
       "</table>\n",
       "</div>"
      ],
      "text/plain": [
       "   Age  Total_Bilirubin  Direct_Bilirubin  Alkaline_Phosphotase  \\\n",
       "0   65              0.7               0.1                   187   \n",
       "1   62             10.9               5.5                   699   \n",
       "2   62              7.3               4.1                   490   \n",
       "\n",
       "   Alamine_Aminotransferase  Aspartate_Aminotransferase  Total_Protiens  \\\n",
       "0                        16                          18             6.8   \n",
       "1                        64                         100             7.5   \n",
       "2                        60                          68             7.0   \n",
       "\n",
       "   Albumin  Albumin_and_Globulin_Ratio  Dataset  \n",
       "0      3.3                        0.90        1  \n",
       "1      3.2                        0.74        1  \n",
       "2      3.3                        0.89        1  "
      ]
     },
     "execution_count": 8,
     "metadata": {},
     "output_type": "execute_result"
    }
   ],
   "source": [
    "X=data.drop(['Gender'],axis=1)\n",
    "X.head(3)"
   ]
  },
  {
   "cell_type": "code",
   "execution_count": 9,
   "metadata": {},
   "outputs": [
    {
     "data": {
      "text/html": [
       "<div>\n",
       "<style>\n",
       "    .dataframe thead tr:only-child th {\n",
       "        text-align: right;\n",
       "    }\n",
       "\n",
       "    .dataframe thead th {\n",
       "        text-align: left;\n",
       "    }\n",
       "\n",
       "    .dataframe tbody tr th {\n",
       "        vertical-align: top;\n",
       "    }\n",
       "</style>\n",
       "<table border=\"1\" class=\"dataframe\">\n",
       "  <thead>\n",
       "    <tr style=\"text-align: right;\">\n",
       "      <th></th>\n",
       "      <th>Age</th>\n",
       "      <th>Total_Bilirubin</th>\n",
       "      <th>Direct_Bilirubin</th>\n",
       "      <th>Alkaline_Phosphotase</th>\n",
       "      <th>Alamine_Aminotransferase</th>\n",
       "      <th>Aspartate_Aminotransferase</th>\n",
       "      <th>Total_Protiens</th>\n",
       "      <th>Albumin</th>\n",
       "      <th>Albumin_and_Globulin_Ratio</th>\n",
       "      <th>Dataset</th>\n",
       "      <th>Female</th>\n",
       "      <th>Male</th>\n",
       "    </tr>\n",
       "  </thead>\n",
       "  <tbody>\n",
       "    <tr>\n",
       "      <th>0</th>\n",
       "      <td>65</td>\n",
       "      <td>0.7</td>\n",
       "      <td>0.1</td>\n",
       "      <td>187</td>\n",
       "      <td>16</td>\n",
       "      <td>18</td>\n",
       "      <td>6.8</td>\n",
       "      <td>3.3</td>\n",
       "      <td>0.90</td>\n",
       "      <td>1</td>\n",
       "      <td>1</td>\n",
       "      <td>0</td>\n",
       "    </tr>\n",
       "    <tr>\n",
       "      <th>1</th>\n",
       "      <td>62</td>\n",
       "      <td>10.9</td>\n",
       "      <td>5.5</td>\n",
       "      <td>699</td>\n",
       "      <td>64</td>\n",
       "      <td>100</td>\n",
       "      <td>7.5</td>\n",
       "      <td>3.2</td>\n",
       "      <td>0.74</td>\n",
       "      <td>1</td>\n",
       "      <td>0</td>\n",
       "      <td>1</td>\n",
       "    </tr>\n",
       "    <tr>\n",
       "      <th>2</th>\n",
       "      <td>62</td>\n",
       "      <td>7.3</td>\n",
       "      <td>4.1</td>\n",
       "      <td>490</td>\n",
       "      <td>60</td>\n",
       "      <td>68</td>\n",
       "      <td>7.0</td>\n",
       "      <td>3.3</td>\n",
       "      <td>0.89</td>\n",
       "      <td>1</td>\n",
       "      <td>0</td>\n",
       "      <td>1</td>\n",
       "    </tr>\n",
       "  </tbody>\n",
       "</table>\n",
       "</div>"
      ],
      "text/plain": [
       "   Age  Total_Bilirubin  Direct_Bilirubin  Alkaline_Phosphotase  \\\n",
       "0   65              0.7               0.1                   187   \n",
       "1   62             10.9               5.5                   699   \n",
       "2   62              7.3               4.1                   490   \n",
       "\n",
       "   Alamine_Aminotransferase  Aspartate_Aminotransferase  Total_Protiens  \\\n",
       "0                        16                          18             6.8   \n",
       "1                        64                         100             7.5   \n",
       "2                        60                          68             7.0   \n",
       "\n",
       "   Albumin  Albumin_and_Globulin_Ratio  Dataset  Female  Male  \n",
       "0      3.3                        0.90        1       1     0  \n",
       "1      3.2                        0.74        1       0     1  \n",
       "2      3.3                        0.89        1       0     1  "
      ]
     },
     "execution_count": 9,
     "metadata": {},
     "output_type": "execute_result"
    }
   ],
   "source": [
    "X=pd.concat([X,gender_dummies],axis=1)\n",
    "X.head(3)"
   ]
  },
  {
   "cell_type": "code",
   "execution_count": 10,
   "metadata": {},
   "outputs": [
    {
     "data": {
      "text/plain": [
       "0    1\n",
       "1    1\n",
       "2    1\n",
       "Name: Dataset, dtype: int64"
      ]
     },
     "execution_count": 10,
     "metadata": {},
     "output_type": "execute_result"
    }
   ],
   "source": [
    "Y=X['Dataset']\n",
    "Y.head(3)"
   ]
  },
  {
   "cell_type": "code",
   "execution_count": 11,
   "metadata": {},
   "outputs": [
    {
     "data": {
      "text/html": [
       "<div>\n",
       "<style>\n",
       "    .dataframe thead tr:only-child th {\n",
       "        text-align: right;\n",
       "    }\n",
       "\n",
       "    .dataframe thead th {\n",
       "        text-align: left;\n",
       "    }\n",
       "\n",
       "    .dataframe tbody tr th {\n",
       "        vertical-align: top;\n",
       "    }\n",
       "</style>\n",
       "<table border=\"1\" class=\"dataframe\">\n",
       "  <thead>\n",
       "    <tr style=\"text-align: right;\">\n",
       "      <th></th>\n",
       "      <th>Age</th>\n",
       "      <th>Total_Bilirubin</th>\n",
       "      <th>Direct_Bilirubin</th>\n",
       "      <th>Alkaline_Phosphotase</th>\n",
       "      <th>Alamine_Aminotransferase</th>\n",
       "      <th>Aspartate_Aminotransferase</th>\n",
       "      <th>Total_Protiens</th>\n",
       "      <th>Albumin</th>\n",
       "      <th>Albumin_and_Globulin_Ratio</th>\n",
       "      <th>Female</th>\n",
       "      <th>Male</th>\n",
       "    </tr>\n",
       "  </thead>\n",
       "  <tbody>\n",
       "    <tr>\n",
       "      <th>0</th>\n",
       "      <td>65</td>\n",
       "      <td>0.7</td>\n",
       "      <td>0.1</td>\n",
       "      <td>187</td>\n",
       "      <td>16</td>\n",
       "      <td>18</td>\n",
       "      <td>6.8</td>\n",
       "      <td>3.3</td>\n",
       "      <td>0.90</td>\n",
       "      <td>1</td>\n",
       "      <td>0</td>\n",
       "    </tr>\n",
       "    <tr>\n",
       "      <th>1</th>\n",
       "      <td>62</td>\n",
       "      <td>10.9</td>\n",
       "      <td>5.5</td>\n",
       "      <td>699</td>\n",
       "      <td>64</td>\n",
       "      <td>100</td>\n",
       "      <td>7.5</td>\n",
       "      <td>3.2</td>\n",
       "      <td>0.74</td>\n",
       "      <td>0</td>\n",
       "      <td>1</td>\n",
       "    </tr>\n",
       "    <tr>\n",
       "      <th>2</th>\n",
       "      <td>62</td>\n",
       "      <td>7.3</td>\n",
       "      <td>4.1</td>\n",
       "      <td>490</td>\n",
       "      <td>60</td>\n",
       "      <td>68</td>\n",
       "      <td>7.0</td>\n",
       "      <td>3.3</td>\n",
       "      <td>0.89</td>\n",
       "      <td>0</td>\n",
       "      <td>1</td>\n",
       "    </tr>\n",
       "  </tbody>\n",
       "</table>\n",
       "</div>"
      ],
      "text/plain": [
       "   Age  Total_Bilirubin  Direct_Bilirubin  Alkaline_Phosphotase  \\\n",
       "0   65              0.7               0.1                   187   \n",
       "1   62             10.9               5.5                   699   \n",
       "2   62              7.3               4.1                   490   \n",
       "\n",
       "   Alamine_Aminotransferase  Aspartate_Aminotransferase  Total_Protiens  \\\n",
       "0                        16                          18             6.8   \n",
       "1                        64                         100             7.5   \n",
       "2                        60                          68             7.0   \n",
       "\n",
       "   Albumin  Albumin_and_Globulin_Ratio  Female  Male  \n",
       "0      3.3                        0.90       1     0  \n",
       "1      3.2                        0.74       0     1  \n",
       "2      3.3                        0.89       0     1  "
      ]
     },
     "execution_count": 11,
     "metadata": {},
     "output_type": "execute_result"
    }
   ],
   "source": [
    "X=X.drop(['Dataset'],axis=1)\n",
    "X.head(3)"
   ]
  },
  {
   "cell_type": "code",
   "execution_count": 12,
   "metadata": {},
   "outputs": [
    {
     "name": "stderr",
     "output_type": "stream",
     "text": [
      "C:\\Users\\Harikumar\\Anaconda3\\lib\\site-packages\\sklearn\\cross_validation.py:44: DeprecationWarning: This module was deprecated in version 0.18 in favor of the model_selection module into which all the refactored classes and functions are moved. Also note that the interface of the new CV iterators are different from that of this module. This module will be removed in 0.20.\n",
      "  \"This module will be removed in 0.20.\", DeprecationWarning)\n"
     ]
    }
   ],
   "source": [
    "from sklearn.linear_model import LogisticRegression\n",
    "from sklearn.cross_validation import train_test_split"
   ]
  },
  {
   "cell_type": "code",
   "execution_count": 13,
   "metadata": {
    "collapsed": true
   },
   "outputs": [],
   "source": [
    "x_train,x_test,y_train,y_test=train_test_split(X,Y,random_state=10,test_size=.35)"
   ]
  },
  {
   "cell_type": "code",
   "execution_count": 14,
   "metadata": {
    "collapsed": true
   },
   "outputs": [],
   "source": [
    "logistic_models={}\n",
    "training_scores=[]\n",
    "testing_scores=[]\n",
    "for alpha in [10,1,0.1,0.01,0.001]:\n",
    "    lr=LogisticRegression(C=alpha,penalty='l1').fit(x_train,y_train)\n",
    "    training_scores.append(lr.score(x_train,y_train))\n",
    "    testing_scores.append(lr.score(x_test,y_test))\n",
    "    logistic_models[alpha]=lr"
   ]
  },
  {
   "cell_type": "code",
   "execution_count": 15,
   "metadata": {
    "collapsed": true
   },
   "outputs": [],
   "source": [
    "import matplotlib.pyplot as plt\n",
    "%matplotlib inline\n",
    "plt.style.use('bmh')"
   ]
  },
  {
   "cell_type": "code",
   "execution_count": 16,
   "metadata": {},
   "outputs": [
    {
     "data": {
      "text/plain": [
       "<matplotlib.legend.Legend at 0x1c40db53668>"
      ]
     },
     "execution_count": 16,
     "metadata": {},
     "output_type": "execute_result"
    },
    {
     "data": {
      "image/png": "[encoded data removed]",
      "text/plain": [
       "<matplotlib.figure.Figure at 0x1c40daabc50>"
      ]
     },
     "metadata": {},
     "output_type": "display_data"
    }
   ],
   "source": [
    "plt.figure(dpi=50,figsize=[10,7])\n",
    "plt.xlabel('Inverse of Lasso Penalty')\n",
    "plt.ylabel('Model Accuracy')\n",
    "plt.plot(training_scores,label=\"training scores\")\n",
    "plt.plot(testing_scores,label=\"testing scores\")\n",
    "plt.xticks(range(5),[10,1,0.1,0.01,0.001])\n",
    "plt.legend(loc=\"best\")"
   ]
  },
  {
   "cell_type": "code",
   "execution_count": 17,
   "metadata": {
    "collapsed": true
   },
   "outputs": [],
   "source": [
    "# Create LogisticRegression model1\n",
    "log_model = LogisticRegression(C=0.1, class_weight=None, dual=False, fit_intercept=True,\n",
    "          intercept_scaling=1, max_iter=100, multi_class='ovr', n_jobs=1,\n",
    "          penalty='l1', random_state=None, solver='liblinear', tol=0.0001,\n",
    "          verbose=0, warm_start=False)"
   ]
  },
  {
   "cell_type": "code",
   "execution_count": 18,
   "metadata": {},
   "outputs": [
    {
     "name": "stdout",
     "output_type": "stream",
     "text": [
      "Model Accuracy: 0.72\n"
     ]
    },
    {
     "data": {
      "text/plain": [
       "array([[-0.01074793, -0.15121874, -0.05678232, -0.0010844 , -0.00880268,\n",
       "        -0.00340686,  0.        ,  0.2371441 ,  0.        ,  0.        ,\n",
       "         0.        ]])"
      ]
     },
     "execution_count": 18,
     "metadata": {},
     "output_type": "execute_result"
    }
   ],
   "source": [
    "# Fit our data\n",
    "log_model.fit(X,Y)\n",
    "\n",
    "# Check our accuracy\n",
    "log_model.score(X,Y)\n",
    "\n",
    "print(\"Model Accuracy: {:.2f}\".format(log_model.score(X,Y)))\n",
    "log_model.coef_"
   ]
  },
  {
   "cell_type": "code",
   "execution_count": 19,
   "metadata": {},
   "outputs": [
    {
     "data": {
      "text/plain": [
       "<matplotlib.legend.Legend at 0x1c40ec0fdd8>"
      ]
     },
     "execution_count": 19,
     "metadata": {},
     "output_type": "execute_result"
    },
    {
     "data": {
      "image/png": "[encoded data removed]",
      "text/plain": [
       "<matplotlib.figure.Figure at 0x1c4084364e0>"
      ]
     },
     "metadata": {},
     "output_type": "display_data"
    }
   ],
   "source": [
    "logistic_models={}\n",
    "training_scores=[]\n",
    "testing_scores=[]\n",
    "for alpha in [10,1,0.1,0.01,0.001]:\n",
    "    lr=LogisticRegression(C=alpha,penalty='l2').fit(x_train,y_train)\n",
    "    training_scores.append(lr.score(x_train,y_train))\n",
    "    testing_scores.append(lr.score(x_test,y_test))\n",
    "    logistic_models[alpha]=lr\n",
    "plt.figure(dpi=50,figsize=[10,7])\n",
    "plt.xlabel('Inverse of Lasso Penalty')\n",
    "plt.ylabel('Model Accuracy')\n",
    "plt.plot(training_scores,label=\"training scores\")\n",
    "plt.plot(testing_scores,label=\"testing scores\")\n",
    "plt.xticks(range(5),[10,1,0.1,0.01,0.001])\n",
    "plt.legend(loc=\"best\")"
   ]
  },
  {
   "cell_type": "code",
   "execution_count": 23,
   "metadata": {},
   "outputs": [
    {
     "name": "stdout",
     "output_type": "stream",
     "text": [
      "Model Accuracy: 0.72\n"
     ]
    },
    {
     "data": {
      "text/plain": [
       "array([[-0.01229758, -0.12158267, -0.10437243, -0.00118394, -0.00879772,\n",
       "        -0.0036185 ,  0.06119369,  0.10800595,  0.06151887,  0.02029659,\n",
       "         0.01414824]])"
      ]
     },
     "execution_count": 23,
     "metadata": {},
     "output_type": "execute_result"
    }
   ],
   "source": [
    "# Create LogisticRegression model01\n",
    "log_model = LogisticRegression(C=0.01, class_weight=None, dual=False, fit_intercept=True,\n",
    "          intercept_scaling=1, max_iter=100, multi_class='ovr', n_jobs=1,\n",
    "          penalty='l2', random_state=None, solver='liblinear', tol=0.0001,\n",
    "          verbose=0, warm_start=False)\n",
    "# Fit our data\n",
    "log_model.fit(X,Y)\n",
    "\n",
    "# Check our accuracy\n",
    "log_model.score(X,Y)\n",
    "\n",
    "print(\"Model Accuracy: {:.2f}\".format(log_model.score(X,Y)))\n",
    "log_model.coef_"
   ]
  },
  {
   "cell_type": "code",
   "execution_count": 83,
   "metadata": {},
   "outputs": [
    {
     "data": {
      "text/plain": [
       "1    416\n",
       "2    167\n",
       "Name: Dataset, dtype: int64"
      ]
     },
     "execution_count": 83,
     "metadata": {},
     "output_type": "execute_result"
    }
   ],
   "source": [
    "Y.value_counts()"
   ]
  },
  {
   "cell_type": "code",
   "execution_count": 34,
   "metadata": {
    "collapsed": true
   },
   "outputs": [],
   "source": [
    "Y=Y.map({2:0,1:1})"
   ]
  },
  {
   "cell_type": "code",
   "execution_count": 35,
   "metadata": {},
   "outputs": [
    {
     "data": {
      "text/plain": [
       "1    416\n",
       "0    167\n",
       "Name: Dataset, dtype: int64"
      ]
     },
     "execution_count": 35,
     "metadata": {},
     "output_type": "execute_result"
    }
   ],
   "source": [
    "Y.value_counts()"
   ]
  },
  {
   "cell_type": "code",
   "execution_count": 24,
   "metadata": {
    "collapsed": true
   },
   "outputs": [],
   "source": [
    "from sklearn.ensemble import RandomForestRegressor\n",
    "from sklearn.metrics import roc_auc_score"
   ]
  },
  {
   "cell_type": "code",
   "execution_count": 36,
   "metadata": {},
   "outputs": [
    {
     "name": "stdout",
     "output_type": "stream",
     "text": [
      "30 trees\n",
      "C : stat- 0.704190177338\n",
      "\n",
      "50 trees\n",
      "C : stat- 0.725227429756\n",
      "\n",
      "100 trees\n",
      "C : stat- 0.732381391064\n",
      "\n",
      "200 trees\n",
      "C : stat- 0.737649700599\n",
      "\n",
      "500 trees\n",
      "C : stat- 0.733640891294\n",
      "\n",
      "1000 trees\n",
      "C : stat- 0.736390200368\n",
      "\n",
      "2000 trees\n",
      "C : stat- 0.736145497467\n",
      "\n"
     ]
    },
    {
     "data": {
      "text/plain": [
       "<matplotlib.axes._subplots.AxesSubplot at 0x1c40eee2278>"
      ]
     },
     "execution_count": 36,
     "metadata": {},
     "output_type": "execute_result"
    },
    {
     "data": {
      "image/png": "[encoded data removed]",
      "text/plain": [
       "<matplotlib.figure.Figure at 0x1c40eedec88>"
      ]
     },
     "metadata": {},
     "output_type": "display_data"
    }
   ],
   "source": [
    "results=[]\n",
    "n_estimator_options=[30,50,100,200,500,1000,2000]\n",
    "for estimators in n_estimator_options:\n",
    "    model=RandomForestRegressor(estimators,oob_score=True,n_jobs=-1,random_state=42)\n",
    "    model.fit(X,Y)\n",
    "    print(estimators ,\"trees\")\n",
    "    roc=roc_auc_score(Y,model.oob_prediction_)\n",
    "    print(\"C : stat-\",roc)\n",
    "    results.append(roc)\n",
    "    print(\"\")\n",
    "pd.Series(results,n_estimator_options).plot()"
   ]
  },
  {
   "cell_type": "code",
   "execution_count": 43,
   "metadata": {},
   "outputs": [
    {
     "name": "stdout",
     "output_type": "stream",
     "text": [
      "auto -No.of features\n",
      "C-Stat  0.736390200368\n",
      "\n",
      "sqrt -No.of features\n",
      "C-Stat  0.75082767158\n",
      "\n",
      "log2 -No.of features\n",
      "C-Stat  0.75082767158\n",
      "\n",
      "0.9 -No.of features\n",
      "C-Stat  0.738369415016\n",
      "\n",
      "0.2 -No.of features\n",
      "C-Stat  0.756801301244\n",
      "\n"
     ]
    },
    {
     "data": {
      "image/png": "[encoded data removed]",
      "text/plain": [
       "<matplotlib.figure.Figure at 0x1c4101df518>"
      ]
     },
     "metadata": {},
     "output_type": "display_data"
    }
   ],
   "source": [
    "results=[]\n",
    "max_feature_options=[\"auto\",\"sqrt\",\"log2\",0.9,0.2]\n",
    "for features in max_feature_options:\n",
    "    model=RandomForestRegressor(n_estimators=1000,oob_score=True,n_jobs=-1,random_state=42,max_features=features)\n",
    "    model.fit(X,Y)\n",
    "    print(features ,\"-No.of features\")\n",
    "    roc=roc_auc_score(Y,model.oob_prediction_)\n",
    "    print(\"C-Stat \",roc)\n",
    "    results.append(roc)\n",
    "    print(\"\")\n",
    "pd.Series(results,max_feature_options).plot(kind='barh',xlim=(0.72,0.76));"
   ]
  },
  {
   "cell_type": "code",
   "execution_count": 45,
   "metadata": {},
   "outputs": [
    {
     "name": "stdout",
     "output_type": "stream",
     "text": [
      "1 min_samples\n",
      "C-stat  0.756801301244\n",
      "\n",
      "2 min_samples\n",
      "C-stat  0.754922846614\n",
      "\n",
      "3 min_samples\n",
      "C-stat  0.75034546292\n",
      "\n",
      "4 min_samples\n",
      "C-stat  0.746732496545\n",
      "\n",
      "5 min_samples\n",
      "C-stat  0.743623330263\n",
      "\n",
      "6 min_samples\n",
      "C-stat  0.742673307232\n",
      "\n",
      "7 min_samples\n",
      "C-stat  0.741766467066\n",
      "\n",
      "8 min_samples\n",
      "C-stat  0.740255066789\n",
      "\n",
      "9 min_samples\n",
      "C-stat  0.740888415477\n",
      "\n",
      "10 min_samples\n",
      "C-stat  0.73877245509\n",
      "\n"
     ]
    },
    {
     "data": {
      "text/plain": [
       "<matplotlib.axes._subplots.AxesSubplot at 0x1c40ee8b6a0>"
      ]
     },
     "execution_count": 45,
     "metadata": {},
     "output_type": "execute_result"
    },
    {
     "data": {
      "image/png": "[encoded data removed]",
      "text/plain": [
       "<matplotlib.figure.Figure at 0x1c40ff9f278>"
      ]
     },
     "metadata": {},
     "output_type": "display_data"
    }
   ],
   "source": [
    "results=[]\n",
    "min_sample_leafs=[1,2,3,4,5,6,7,8,9,10]\n",
    "for samples in min_sample_leafs:\n",
    "    model=RandomForestRegressor(n_estimators=1000,\n",
    "                                oob_score=True,n_jobs=-1,max_features=0.2,\n",
    "                                random_state=42,min_samples_leaf=samples)\n",
    "    model.fit(X,Y)\n",
    "    print(samples ,\"min_samples\")\n",
    "    roc=roc_auc_score(Y,model.oob_prediction_)\n",
    "    print(\"C-stat \",roc)\n",
    "    results.append(roc)\n",
    "    print(\"\")\n",
    "pd.Series(results,min_sample_leafs).plot()"
   ]
  },
  {
   "cell_type": "code",
   "execution_count": 47,
   "metadata": {},
   "outputs": [
    {
     "name": "stdout",
     "output_type": "stream",
     "text": [
      "C-stat  0.756801301244\n"
     ]
    }
   ],
   "source": [
    "model=RandomForestRegressor(n_estimators=1000,oob_score=True,n_jobs=-1,min_samples_leaf=1,max_features=0.2,random_state=42)\n",
    "model.fit(X,Y)\n",
    "roc=roc_auc_score(Y,model.oob_prediction_)\n",
    "print(\"C-stat \",roc)"
   ]
  },
  {
   "cell_type": "code",
   "execution_count": 48,
   "metadata": {},
   "outputs": [
    {
     "name": "stdout",
     "output_type": "stream",
     "text": [
      "[ 0.853  0.995  0.982  0.817  0.989  0.829  0.81   0.804  0.129  0.922\n",
      "  0.936  0.977  0.296  0.855  0.818  0.268  0.906  0.224  0.99   0.99\n",
      "  0.961  0.982  0.991  0.915  0.219  0.986  0.986  0.995  0.194  0.141\n",
      "  0.976  0.889  0.145  0.121  0.121  0.944  0.145  0.995  0.941  0.992\n",
      "  0.911  0.322  0.346  0.978  0.245  0.302  0.867  0.964  0.86   0.994\n",
      "  0.79   0.81   0.986  0.901  0.994  0.994  0.211  0.281  0.888  0.162\n",
      "  0.813  0.935  0.935  0.925  0.972  0.962  0.887  0.881  0.838  0.232\n",
      "  0.901  0.895  0.856  0.723  0.799  0.177  0.886  0.936  0.202  0.978\n",
      "  0.959  0.791  0.231  0.927  0.81   0.842  0.187  0.945  0.828  1.     0.996\n",
      "  0.995  0.995  0.991  0.986  0.905  0.995  0.944  0.95   0.925  0.183\n",
      "  0.221  0.808  0.242  0.844  0.127  0.127  0.099  0.099  0.335  0.152\n",
      "  0.965  0.209  0.903  0.328  0.339  0.956  0.987  0.997  0.995  0.997\n",
      "  0.996  0.287  0.809  0.218  0.253  0.956  0.969  0.894  0.976  0.971\n",
      "  0.252  0.176  0.862  0.835  0.985  0.989  0.968  0.968  0.826  0.217\n",
      "  0.958  0.973  0.973  0.949  0.145  0.952  0.837  0.759  0.901  0.248\n",
      "  0.846  0.799  0.247  0.949  0.988  0.942  0.938  0.938  0.909  0.955\n",
      "  0.994  0.972  0.946  0.946  0.978  0.984  0.987  0.984  0.979  0.928\n",
      "  0.951  0.986  0.939  0.939  0.778  0.978  0.973  0.99   0.975  0.946\n",
      "  0.956  0.312  0.857  0.819  0.321  0.996  0.937  0.924  0.228  0.991\n",
      "  0.994  0.896  0.22   0.299  0.961  0.953  0.726  0.182  0.936  0.963\n",
      "  0.963  0.215  0.071  0.127  0.896  0.992  0.997  0.938  0.802  0.841\n",
      "  0.983  0.328  0.871  0.884  0.245  0.24   0.815  0.193  0.879  0.897\n",
      "  0.796  0.917  0.226  0.888  0.844  0.811  0.788  0.173  0.91   0.231\n",
      "  0.905  0.977  0.919  0.903  0.956  0.271  0.871  0.152  0.899  0.219\n",
      "  0.916  0.786  0.862  0.844  0.911  0.949  0.784  0.905  0.9    0.946\n",
      "  0.927  0.266  0.185  0.205  0.925  0.873  0.956  0.206  0.989  0.998\n",
      "  0.963  0.849  0.848  0.284  0.188  0.795  0.756  0.994  0.805  0.858\n",
      "  0.301  0.962  0.87   0.858  0.267  0.16   0.901  0.917  0.815  0.934\n",
      "  0.181  0.745  0.237  0.787  0.811  0.85   0.193  0.888  0.984  0.849\n",
      "  0.152  0.92   0.196  0.803  0.829  0.864  0.15   0.798  0.139  0.158\n",
      "  0.931  0.914  0.171  0.856  0.253  0.98   0.85   0.89   0.907  0.779\n",
      "  0.965  0.221  0.202  0.86   0.087  0.194  0.887  0.959  0.218  0.808\n",
      "  0.848  0.846  0.244  0.951  0.154  0.303  0.305  0.142  0.13   0.893\n",
      "  0.903  0.983  0.186  0.783  0.774  0.991  0.969  0.933  0.918  0.919\n",
      "  0.964  0.252  0.98   0.221  0.98   0.826  0.943  0.884  0.266  0.867\n",
      "  0.842  0.757  0.956  0.857  0.155  0.877  0.913  0.758  0.216  0.877\n",
      "  0.207  0.228  0.194  0.21   0.251  0.149  0.324  0.893  0.799  0.969  0.2\n",
      "  0.865  0.137  0.212  0.969  0.843  0.142  0.795  0.191  0.929  0.787\n",
      "  0.808  0.167  0.995  0.788  0.274  0.812  0.838  0.909  0.92   0.836\n",
      "  0.977  0.952  0.895  0.162  0.868  0.903  0.824  0.951  0.239  0.952\n",
      "  0.89   0.131  0.706  0.899  0.177  0.879  0.971  0.991  0.952  0.277\n",
      "  0.986  0.24   0.244  0.93   0.958  0.17   0.989  0.981  0.952  0.235\n",
      "  0.936  0.271  0.805  0.828  0.278  0.88   0.209  0.963  0.812  0.242\n",
      "  0.761  0.234  0.195  0.18   0.862  0.817  0.831  0.859  0.871  0.901\n",
      "  0.979  0.833  0.188  0.245  0.806  0.968  0.836  0.861  0.976  0.931\n",
      "  0.875  0.92   0.154  0.783  0.283  0.266  0.86   0.84   0.858  0.871\n",
      "  0.807  0.81   0.223  0.229  0.204  0.228  0.918  0.867  0.79   0.212\n",
      "  0.256  0.202  0.313  0.314  0.872  0.875  0.995  0.982  0.118  0.987\n",
      "  0.904  0.224  0.872  0.959  0.842  0.96   0.155  0.186  0.857  0.192\n",
      "  0.93   0.242  0.897  0.193  0.794  0.968  0.814  0.999  0.944  0.92\n",
      "  0.888  0.995  0.987  0.996  0.985  0.89   0.997  0.988  0.198  0.955\n",
      "  0.287  0.873  0.888  0.998  0.771  0.899  0.992  0.96   0.911  0.96\n",
      "  0.905  0.786  0.166  0.237  0.98   0.992  0.879  0.989  0.162  0.992\n",
      "  0.189  0.953  0.313  0.976  0.997  0.857  0.934  0.258  0.238  0.202\n",
      "  0.202  0.799  0.971  0.187  0.965  0.98   0.987  0.917  0.957  0.128\n",
      "  0.855  0.999  0.952  0.976  0.793  0.977  0.993  0.995  0.991  0.997\n",
      "  0.995  0.943  0.223  0.917  0.263  0.962  0.956  0.986  0.94   0.922\n",
      "  0.895  0.986  0.992  0.969  0.994  0.934  0.244  0.917  0.953  0.81   0.24 ]\n"
     ]
    }
   ],
   "source": [
    "print(model.predict(X))"
   ]
  }
 ],
 "metadata": {
  "kernelspec": {
   "display_name": "Python 3",
   "language": "python",
   "name": "python3"
  },
  "language_info": {
   "codemirror_mode": {
    "name": "ipython",
    "version": 3
   },
   "file_extension": ".py",
   "mimetype": "text/x-python",
   "name": "python",
   "nbconvert_exporter": "python",
   "pygments_lexer": "ipython3",
   "version": "3.6.1"
  }
 },
 "nbformat": 4,
 "nbformat_minor": 2
}
